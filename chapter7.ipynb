{
 "cells": [
  {
   "cell_type": "code",
   "execution_count": 1,
   "id": "c5c7f520-3e29-491d-b103-54497958635a",
   "metadata": {},
   "outputs": [],
   "source": [
    "from torchvision import datasets"
   ]
  },
  {
   "cell_type": "markdown",
   "id": "8d51bc10-2686-4f02-9759-a2121225dc0b",
   "metadata": {},
   "source": [
    "### Downloading the Cifar 10 Dataset"
   ]
  },
  {
   "cell_type": "code",
   "execution_count": 5,
   "id": "8d63692e-714f-4f99-a43e-0c9561e37317",
   "metadata": {},
   "outputs": [
    {
     "data": {
      "text/plain": [
       "'/Users/dk/Side Projects/Deeplearning with Pytorch'"
      ]
     },
     "execution_count": 5,
     "metadata": {},
     "output_type": "execute_result"
    }
   ],
   "source": [
    "import os \n",
    "cwd = os.getcwd()"
   ]
  },
  {
   "cell_type": "code",
   "execution_count": 70,
   "id": "9a8729e6-6566-498b-bbef-7b8736eb9325",
   "metadata": {},
   "outputs": [],
   "source": [
    "train_path = os.path.join(cwd, \"train\")\n",
    "test_path = os.path.join(cwd, \"test\")"
   ]
  },
  {
   "cell_type": "code",
   "execution_count": 13,
   "id": "91974c7b-3776-465f-b23b-bd5fe37e5d2f",
   "metadata": {},
   "outputs": [
    {
     "name": "stdout",
     "output_type": "stream",
     "text": [
      "Downloading https://www.cs.toronto.edu/~kriz/cifar-10-python.tar.gz to /Users/dk/Side Projects/Deeplearning with Pytorch/train/cifar-10-python.tar.gz\n"
     ]
    },
    {
     "name": "stderr",
     "output_type": "stream",
     "text": [
      "100%|████████████████████████| 170498071/170498071 [01:41<00:00, 1686284.10it/s]\n"
     ]
    },
    {
     "name": "stdout",
     "output_type": "stream",
     "text": [
      "Extracting /Users/dk/Side Projects/Deeplearning with Pytorch/train/cifar-10-python.tar.gz to /Users/dk/Side Projects/Deeplearning with Pytorch/train\n",
      "Downloading https://www.cs.toronto.edu/~kriz/cifar-10-python.tar.gz to /Users/dk/Side Projects/Deeplearning with Pytorch/test/cifar-10-python.tar.gz\n"
     ]
    },
    {
     "name": "stderr",
     "output_type": "stream",
     "text": [
      "100%|████████████████████████| 170498071/170498071 [01:51<00:00, 1532247.24it/s]\n"
     ]
    },
    {
     "name": "stdout",
     "output_type": "stream",
     "text": [
      "Extracting /Users/dk/Side Projects/Deeplearning with Pytorch/test/cifar-10-python.tar.gz to /Users/dk/Side Projects/Deeplearning with Pytorch/test\n"
     ]
    }
   ],
   "source": [
    "cifar10 = datasets.CIFAR10(train_path,train = True, download = True)\n",
    "cifar10_val = datasets.CIFAR10(test_path,train = False, download = True)"
   ]
  },
  {
   "cell_type": "code",
   "execution_count": 15,
   "id": "a684f03e-1c29-452a-b36c-1c2debcaa47c",
   "metadata": {},
   "outputs": [
    {
     "data": {
      "text/plain": [
       "(torchvision.datasets.cifar.CIFAR10,\n",
       " torchvision.datasets.vision.VisionDataset,\n",
       " torch.utils.data.dataset.Dataset,\n",
       " typing.Generic,\n",
       " object)"
      ]
     },
     "execution_count": 15,
     "metadata": {},
     "output_type": "execute_result"
    }
   ],
   "source": [
    "type(cifar10).__mro__"
   ]
  },
  {
   "cell_type": "code",
   "execution_count": 16,
   "id": "3c1d34d3-f47c-48f2-a013-a8b790760c19",
   "metadata": {},
   "outputs": [
    {
     "data": {
      "text/plain": [
       "50000"
      ]
     },
     "execution_count": 16,
     "metadata": {},
     "output_type": "execute_result"
    }
   ],
   "source": [
    "len(cifar10)"
   ]
  },
  {
   "cell_type": "code",
   "execution_count": 18,
   "id": "a94ce4a8-15e8-44bd-856a-8e5d2ca77f62",
   "metadata": {},
   "outputs": [],
   "source": [
    "img, label = cifar10[99]"
   ]
  },
  {
   "cell_type": "code",
   "execution_count": 26,
   "id": "acec15b7-36d4-4047-a709-270499bb6c3b",
   "metadata": {},
   "outputs": [
    {
     "data": {
      "text/plain": [
       "<matplotlib.image.AxesImage at 0x14ab45cd0>"
      ]
     },
     "execution_count": 26,
     "metadata": {},
     "output_type": "execute_result"
    },
    {
     "data": {
      "image/png": "[encoded data removed]",
      "text/plain": [
       "<Figure size 640x480 with 1 Axes>"
      ]
     },
     "metadata": {},
     "output_type": "display_data"
    }
   ],
   "source": [
    "# plot the image\n",
    "import matplotlib.pyplot as plt\n",
    "plt.imshow(img)"
   ]
  },
  {
   "cell_type": "markdown",
   "id": "6e845a9a-f574-48e7-9590-038b8f04b6b3",
   "metadata": {},
   "source": [
    "#### Dataset Transforms"
   ]
  },
  {
   "cell_type": "code",
   "execution_count": 27,
   "id": "7e235e23-7232-405e-be58-8a425397cb40",
   "metadata": {},
   "outputs": [],
   "source": [
    "from torchvision import transforms"
   ]
  },
  {
   "cell_type": "code",
   "execution_count": 28,
   "id": "61ad69cb-0916-474f-8f70-4fb7b7f74988",
   "metadata": {},
   "outputs": [
    {
     "data": {
      "text/plain": [
       "['AugMix',\n",
       " 'AutoAugment',\n",
       " 'AutoAugmentPolicy',\n",
       " 'CenterCrop',\n",
       " 'ColorJitter',\n",
       " 'Compose',\n",
       " 'ConvertImageDtype',\n",
       " 'ElasticTransform',\n",
       " 'FiveCrop',\n",
       " 'GaussianBlur',\n",
       " 'Grayscale',\n",
       " 'InterpolationMode',\n",
       " 'Lambda',\n",
       " 'LinearTransformation',\n",
       " 'Normalize',\n",
       " 'PILToTensor',\n",
       " 'Pad',\n",
       " 'RandAugment',\n",
       " 'RandomAdjustSharpness',\n",
       " 'RandomAffine',\n",
       " 'RandomApply',\n",
       " 'RandomAutocontrast',\n",
       " 'RandomChoice',\n",
       " 'RandomCrop',\n",
       " 'RandomEqualize',\n",
       " 'RandomErasing',\n",
       " 'RandomGrayscale',\n",
       " 'RandomHorizontalFlip',\n",
       " 'RandomInvert',\n",
       " 'RandomOrder',\n",
       " 'RandomPerspective',\n",
       " 'RandomPosterize',\n",
       " 'RandomResizedCrop',\n",
       " 'RandomRotation',\n",
       " 'RandomSolarize',\n",
       " 'RandomVerticalFlip',\n",
       " 'Resize',\n",
       " 'TenCrop',\n",
       " 'ToPILImage',\n",
       " 'ToTensor',\n",
       " 'TrivialAugmentWide',\n",
       " '__builtins__',\n",
       " '__cached__',\n",
       " '__doc__',\n",
       " '__file__',\n",
       " '__loader__',\n",
       " '__name__',\n",
       " '__package__',\n",
       " '__path__',\n",
       " '__spec__',\n",
       " '_functional_pil',\n",
       " '_functional_tensor',\n",
       " '_presets',\n",
       " 'autoaugment',\n",
       " 'functional',\n",
       " 'transforms']"
      ]
     },
     "execution_count": 28,
     "metadata": {},
     "output_type": "execute_result"
    }
   ],
   "source": [
    "dir(transforms)"
   ]
  },
  {
   "cell_type": "code",
   "execution_count": 31,
   "id": "d80e2692-cd58-4507-b86c-0f1661c27575",
   "metadata": {},
   "outputs": [
    {
     "data": {
      "text/plain": [
       "torch.Size([3, 32, 32])"
      ]
     },
     "execution_count": 31,
     "metadata": {},
     "output_type": "execute_result"
    }
   ],
   "source": [
    "to_tensor = transforms.ToTensor()\n",
    "img_t = to_tensor(img)\n",
    "img_t.shape"
   ]
  },
  {
   "cell_type": "code",
   "execution_count": 35,
   "id": "39e4feb3-1726-4e39-9bf1-98def119da87",
   "metadata": {},
   "outputs": [],
   "source": [
    "# Cifar10 transforms\n",
    "tensor_cifar10 = datasets.CIFAR10(train_path, train=True, download=False,\n",
    "                          transform=transforms.ToTensor())\n"
   ]
  },
  {
   "cell_type": "code",
   "execution_count": 37,
   "id": "c2917128-ed8b-458e-8139-35de868bb479",
   "metadata": {},
   "outputs": [
    {
     "data": {
      "text/plain": [
       "torch.Tensor"
      ]
     },
     "execution_count": 37,
     "metadata": {},
     "output_type": "execute_result"
    }
   ],
   "source": [
    "img_t, _ = tensor_cifar10[99]\n",
    "type(img_t)"
   ]
  },
  {
   "cell_type": "code",
   "execution_count": 38,
   "id": "65053347-ca47-4dc6-9be8-7932526c8c59",
   "metadata": {},
   "outputs": [
    {
     "data": {
      "text/plain": [
       "(torch.Size([3, 32, 32]), torch.float32)"
      ]
     },
     "execution_count": 38,
     "metadata": {},
     "output_type": "execute_result"
    }
   ],
   "source": [
    "img_t.shape,img_t.dtype"
   ]
  },
  {
   "cell_type": "code",
   "execution_count": 39,
   "id": "ab27f08d-358f-437e-a023-17b5459c9722",
   "metadata": {},
   "outputs": [
    {
     "data": {
      "text/plain": [
       "(tensor(0.), tensor(1.))"
      ]
     },
     "execution_count": 39,
     "metadata": {},
     "output_type": "execute_result"
    }
   ],
   "source": [
    "img_t.min(),img_t.max()"
   ]
  },
  {
   "cell_type": "code",
   "execution_count": 42,
   "id": "76c62e3a-94a6-40e4-9a2b-87d5d997451c",
   "metadata": {},
   "outputs": [
    {
     "data": {
      "image/png": "[encoded data removed]",
      "text/plain": [
       "<Figure size 640x480 with 1 Axes>"
      ]
     },
     "metadata": {},
     "output_type": "display_data"
    }
   ],
   "source": [
    "plt.imshow(img_t.permute(1,2,0))\n",
    "plt.show()"
   ]
  },
  {
   "cell_type": "markdown",
   "id": "98871cd4-b9ec-4db7-b665-9164d2d553d7",
   "metadata": {},
   "source": [
    "It checks. Note how we have to use permute to change the order of the axes from C × H × W to H × W × C to match what Matplotlib expects.\n",
    "\n",
    "each channel has zero mean and unitary standard devi- ation, we can compute the mean value and the standard deviation of each channel across the dataset and apply the following transform: v_n[c] = (v[c] - mean[c]) / stdev[c]."
   ]
  },
  {
   "cell_type": "code",
   "execution_count": 44,
   "id": "3bf1ebb2-88d4-42ef-93cd-041b304281ab",
   "metadata": {},
   "outputs": [],
   "source": [
    "import torch"
   ]
  },
  {
   "cell_type": "code",
   "execution_count": 45,
   "id": "ce2a487f-fdd3-4806-8e98-9d5d88bb361e",
   "metadata": {},
   "outputs": [],
   "source": [
    "imgs = torch.stack([img_t for img_t,_ in tensor_cifar10], dim=3)"
   ]
  },
  {
   "cell_type": "code",
   "execution_count": 46,
   "id": "76cb5b23-ab79-4837-8038-8cd764325d66",
   "metadata": {},
   "outputs": [
    {
     "data": {
      "text/plain": [
       "tensor([[[[0.2314, 0.6039, 1.0000,  ..., 0.1373, 0.7412, 0.8980],\n",
       "          [0.1686, 0.4941, 0.9922,  ..., 0.1569, 0.7294, 0.9255],\n",
       "          [0.1961, 0.4118, 0.9922,  ..., 0.1647, 0.7255, 0.9176],\n",
       "          ...,\n",
       "          [0.6196, 0.3569, 0.9922,  ..., 0.3882, 0.6863, 0.8510],\n",
       "          [0.5961, 0.3412, 0.9922,  ..., 0.3098, 0.6745, 0.8667],\n",
       "          [0.5804, 0.3098, 0.9922,  ..., 0.3490, 0.6627, 0.8706]],\n",
       "\n",
       "         [[0.0627, 0.5490, 1.0000,  ..., 0.2235, 0.7608, 0.8706],\n",
       "          [0.0000, 0.5686, 1.0000,  ..., 0.1725, 0.7490, 0.9373],\n",
       "          [0.0706, 0.4902, 1.0000,  ..., 0.1961, 0.7451, 0.9137],\n",
       "          ...,\n",
       "          [0.4824, 0.3765, 1.0000,  ..., 0.6118, 0.6784, 0.8745],\n",
       "          [0.4667, 0.3020, 1.0000,  ..., 0.5529, 0.6706, 0.8902],\n",
       "          [0.4784, 0.2784, 1.0000,  ..., 0.4549, 0.6549, 0.8235]],\n",
       "\n",
       "         [[0.0980, 0.5490, 1.0000,  ..., 0.3843, 0.8157, 0.8353],\n",
       "          [0.0627, 0.5451, 0.9961,  ..., 0.2510, 0.8039, 0.9176],\n",
       "          [0.1922, 0.4510, 0.9961,  ..., 0.2706, 0.8000, 0.9059],\n",
       "          ...,\n",
       "          [0.4627, 0.3098, 0.9961,  ..., 0.7373, 0.6863, 0.8627],\n",
       "          [0.4706, 0.2667, 0.9961,  ..., 0.4667, 0.6745, 0.8627],\n",
       "          [0.4275, 0.2627, 0.9961,  ..., 0.2392, 0.6627, 0.7922]],\n",
       "\n",
       "         ...,\n",
       "\n",
       "         [[0.8157, 0.6863, 0.4431,  ..., 0.2863, 0.8118, 0.5882],\n",
       "          [0.7882, 0.6118, 0.4353,  ..., 0.2078, 0.7961, 0.5490],\n",
       "          [0.7765, 0.6039, 0.4118,  ..., 0.2118, 0.7961, 0.5176],\n",
       "          ...,\n",
       "          [0.6275, 0.1647, 0.2824,  ..., 0.0667, 0.5294, 0.8784],\n",
       "          [0.2196, 0.2392, 0.2824,  ..., 0.0824, 0.6353, 0.9020],\n",
       "          [0.2078, 0.3647, 0.2824,  ..., 0.1294, 0.6588, 0.9451]],\n",
       "\n",
       "         [[0.7059, 0.6471, 0.4353,  ..., 0.2392, 0.7765, 0.5373],\n",
       "          [0.6784, 0.6118, 0.4078,  ..., 0.2157, 0.7412, 0.5098],\n",
       "          [0.7294, 0.6235, 0.3882,  ..., 0.2235, 0.7059, 0.4902],\n",
       "          ...,\n",
       "          [0.7216, 0.4039, 0.2667,  ..., 0.0941, 0.6980, 0.7098],\n",
       "          [0.3804, 0.4824, 0.2745,  ..., 0.0667, 0.6863, 0.7922],\n",
       "          [0.3255, 0.5137, 0.3059,  ..., 0.0275, 0.6863, 0.8314]],\n",
       "\n",
       "         [[0.6941, 0.6392, 0.4157,  ..., 0.1725, 0.7765, 0.4784],\n",
       "          [0.6588, 0.6196, 0.3882,  ..., 0.1804, 0.7412, 0.4627],\n",
       "          [0.7020, 0.6392, 0.3725,  ..., 0.1922, 0.6980, 0.4706],\n",
       "          ...,\n",
       "          [0.8471, 0.5608, 0.3059,  ..., 0.1059, 0.7647, 0.7020],\n",
       "          [0.5922, 0.5608, 0.3098,  ..., 0.0824, 0.7686, 0.6431],\n",
       "          [0.4824, 0.5608, 0.3137,  ..., 0.0471, 0.7647, 0.6392]]],\n",
       "\n",
       "\n",
       "        [[[0.2431, 0.6941, 1.0000,  ..., 0.6980, 0.8275, 0.8980],\n",
       "          [0.1804, 0.5373, 0.9922,  ..., 0.6902, 0.8157, 0.9294],\n",
       "          [0.1882, 0.4078, 0.9922,  ..., 0.6902, 0.8118, 0.9255],\n",
       "          ...,\n",
       "          [0.5176, 0.3725, 0.9922,  ..., 0.6941, 0.7647, 0.8588],\n",
       "          [0.4902, 0.3529, 0.9922,  ..., 0.5765, 0.7608, 0.8745],\n",
       "          [0.4863, 0.3176, 0.9922,  ..., 0.5804, 0.7608, 0.8745]],\n",
       "\n",
       "         [[0.0784, 0.6275, 1.0000,  ..., 0.7137, 0.8235, 0.8667],\n",
       "          [0.0000, 0.6000, 1.0000,  ..., 0.7216, 0.8118, 0.9373],\n",
       "          [0.0314, 0.4902, 1.0000,  ..., 0.7176, 0.8078, 0.9176],\n",
       "          ...,\n",
       "          [0.3451, 0.3882, 1.0000,  ..., 0.7137, 0.7529, 0.8745],\n",
       "          [0.3255, 0.3137, 1.0000,  ..., 0.6941, 0.7490, 0.8941],\n",
       "          [0.3412, 0.2863, 1.0000,  ..., 0.5843, 0.7451, 0.8275]],\n",
       "\n",
       "         [[0.0941, 0.6078, 1.0000,  ..., 0.7725, 0.8588, 0.8078],\n",
       "          [0.0275, 0.5725, 0.9961,  ..., 0.7412, 0.8471, 0.9098],\n",
       "          [0.1059, 0.4510, 0.9961,  ..., 0.7529, 0.8431, 0.9137],\n",
       "          ...,\n",
       "          [0.3294, 0.3216, 0.9961,  ..., 0.7647, 0.7490, 0.8627],\n",
       "          [0.3294, 0.2745, 0.9961,  ..., 0.5294, 0.7451, 0.8588],\n",
       "          [0.2863, 0.2706, 0.9961,  ..., 0.3098, 0.7490, 0.7961]],\n",
       "\n",
       "         ...,\n",
       "\n",
       "         [[0.6667, 0.6549, 0.4706,  ..., 0.3098, 0.7804, 0.5608],\n",
       "          [0.6000, 0.6039, 0.4627,  ..., 0.2471, 0.7647, 0.5294],\n",
       "          [0.6314, 0.6275, 0.4392,  ..., 0.2667, 0.7686, 0.4980],\n",
       "          ...,\n",
       "          [0.5216, 0.1333, 0.3176,  ..., 0.1569, 0.5176, 0.8706],\n",
       "          [0.1216, 0.2078, 0.3137,  ..., 0.1412, 0.6196, 0.8941],\n",
       "          [0.1333, 0.3255, 0.3137,  ..., 0.1882, 0.6392, 0.9451]],\n",
       "\n",
       "         [[0.5451, 0.6039, 0.4627,  ..., 0.2667, 0.7451, 0.5176],\n",
       "          [0.4824, 0.5961, 0.4353,  ..., 0.2745, 0.7098, 0.4980],\n",
       "          [0.5647, 0.6314, 0.4157,  ..., 0.3098, 0.6745, 0.4745],\n",
       "          ...,\n",
       "          [0.5804, 0.3647, 0.2941,  ..., 0.1882, 0.6706, 0.7059],\n",
       "          [0.2431, 0.4471, 0.2980,  ..., 0.1373, 0.6627, 0.7882],\n",
       "          [0.2078, 0.4745, 0.3294,  ..., 0.0902, 0.6627, 0.8275]],\n",
       "\n",
       "         [[0.5647, 0.5804, 0.4431,  ..., 0.2196, 0.7412, 0.4667],\n",
       "          [0.5059, 0.5804, 0.4157,  ..., 0.2588, 0.7098, 0.4549],\n",
       "          [0.5569, 0.6118, 0.4000,  ..., 0.3020, 0.6667, 0.4549],\n",
       "          ...,\n",
       "          [0.7216, 0.5216, 0.3333,  ..., 0.2039, 0.7216, 0.6941],\n",
       "          [0.4627, 0.5255, 0.3333,  ..., 0.1686, 0.7412, 0.6431],\n",
       "          [0.3608, 0.5216, 0.3373,  ..., 0.1216, 0.7451, 0.6392]]],\n",
       "\n",
       "\n",
       "        [[[0.2471, 0.7333, 1.0000,  ..., 0.9216, 0.9412, 0.9373],\n",
       "          [0.1765, 0.5333, 0.9922,  ..., 0.9373, 0.9255, 0.9686],\n",
       "          [0.1686, 0.3725, 0.9922,  ..., 0.9451, 0.9216, 0.9686],\n",
       "          ...,\n",
       "          [0.4235, 0.2784, 0.9922,  ..., 0.8588, 0.8784, 0.9137],\n",
       "          [0.4000, 0.2784, 0.9922,  ..., 0.7725, 0.8706, 0.9176],\n",
       "          [0.4039, 0.2745, 0.9922,  ..., 0.7412, 0.8627, 0.9137]],\n",
       "\n",
       "         [[0.0784, 0.6627, 1.0000,  ..., 0.9176, 0.9373, 0.8980],\n",
       "          [0.0000, 0.6039, 1.0000,  ..., 0.9804, 0.9255, 0.9765],\n",
       "          [0.0000, 0.4627, 1.0000,  ..., 0.9412, 0.9216, 0.9647],\n",
       "          ...,\n",
       "          [0.2157, 0.3059, 1.0000,  ..., 0.7843, 0.8627, 0.9255],\n",
       "          [0.1961, 0.2431, 1.0000,  ..., 0.8078, 0.8549, 0.9333],\n",
       "          [0.2235, 0.2392, 1.0000,  ..., 0.6863, 0.8471, 0.8627]],\n",
       "\n",
       "         [[0.0824, 0.6431, 1.0000,  ..., 0.9294, 0.9569, 0.8275],\n",
       "          [0.0000, 0.5843, 0.9961,  ..., 0.9882, 0.9412, 0.9373],\n",
       "          [0.0314, 0.4392, 0.9961,  ..., 0.9608, 0.9373, 0.9569],\n",
       "          ...,\n",
       "          [0.1961, 0.2510, 0.9961,  ..., 0.8078, 0.8510, 0.9098],\n",
       "          [0.1961, 0.2157, 0.9961,  ..., 0.5765, 0.8471, 0.9098],\n",
       "          [0.1647, 0.2157, 0.9961,  ..., 0.3529, 0.8431, 0.8431]],\n",
       "\n",
       "         ...,\n",
       "\n",
       "         [[0.3765, 0.6510, 0.4392,  ..., 0.3020, 0.7098, 0.5294],\n",
       "          [0.1333, 0.6275, 0.4353,  ..., 0.2667, 0.6863, 0.4980],\n",
       "          [0.1020, 0.6667, 0.4157,  ..., 0.3137, 0.6784, 0.4706],\n",
       "          ...,\n",
       "          [0.2745, 0.1412, 0.3137,  ..., 0.2510, 0.4980, 0.8549],\n",
       "          [0.0275, 0.2235, 0.3098,  ..., 0.2000, 0.5882, 0.8824],\n",
       "          [0.0784, 0.3569, 0.3098,  ..., 0.1922, 0.5922, 0.9333]],\n",
       "\n",
       "         [[0.3765, 0.5020, 0.4314,  ..., 0.2941, 0.6667, 0.4941],\n",
       "          [0.1647, 0.5098, 0.4078,  ..., 0.3373, 0.6235, 0.4706],\n",
       "          [0.1176, 0.5569, 0.3843,  ..., 0.4039, 0.5765, 0.4510],\n",
       "          ...,\n",
       "          [0.3686, 0.3765, 0.2863,  ..., 0.2824, 0.6275, 0.6980],\n",
       "          [0.1333, 0.4706, 0.2941,  ..., 0.2078, 0.6118, 0.7765],\n",
       "          [0.1333, 0.5137, 0.3216,  ..., 0.1255, 0.6039, 0.8118]],\n",
       "\n",
       "         [[0.4549, 0.4706, 0.4118,  ..., 0.2863, 0.6784, 0.4471],\n",
       "          [0.3686, 0.4784, 0.3843,  ..., 0.3451, 0.6353, 0.4314],\n",
       "          [0.3412, 0.5216, 0.3686,  ..., 0.4118, 0.5843, 0.4353],\n",
       "          ...,\n",
       "          [0.5490, 0.5451, 0.3255,  ..., 0.3020, 0.6627, 0.6784],\n",
       "          [0.3294, 0.5569, 0.3255,  ..., 0.2588, 0.6706, 0.6353],\n",
       "          [0.2824, 0.5647, 0.3294,  ..., 0.1961, 0.6706, 0.6314]]]])"
      ]
     },
     "execution_count": 46,
     "metadata": {},
     "output_type": "execute_result"
    }
   ],
   "source": [
    "imgs"
   ]
  },
  {
   "cell_type": "code",
   "execution_count": 47,
   "id": "610d1a73-e191-4a0e-b403-3f5fecf8b130",
   "metadata": {},
   "outputs": [
    {
     "data": {
      "text/plain": [
       "torch.Size([3, 32, 32, 50000])"
      ]
     },
     "execution_count": 47,
     "metadata": {},
     "output_type": "execute_result"
    }
   ],
   "source": [
    "imgs.size()"
   ]
  },
  {
   "cell_type": "code",
   "execution_count": 65,
   "id": "5d9b395d-d5f4-4c99-9ae1-346d72097a59",
   "metadata": {},
   "outputs": [
    {
     "data": {
      "text/plain": [
       "torch.Size([3, 51200000])"
      ]
     },
     "execution_count": 65,
     "metadata": {},
     "output_type": "execute_result"
    }
   ],
   "source": [
    "imgs.view(3, -1).shape"
   ]
  },
  {
   "cell_type": "code",
   "execution_count": 51,
   "id": "a7090996-4bc1-4b1f-9e2e-06968a799f92",
   "metadata": {},
   "outputs": [
    {
     "data": {
      "text/plain": [
       "torch.Size([51200000])"
      ]
     },
     "execution_count": 51,
     "metadata": {},
     "output_type": "execute_result"
    }
   ],
   "source": [
    "imgs.view(3, -1)[0].shape"
   ]
  },
  {
   "cell_type": "markdown",
   "id": "a8427b5d-d3ab-4fb0-9e70-2c46baa11985",
   "metadata": {},
   "source": [
    "32 * 32 * 50000 = 51200000"
   ]
  },
  {
   "cell_type": "code",
   "execution_count": 55,
   "id": "2ea10e1b-32a5-4793-a6ac-4d8968136bd2",
   "metadata": {},
   "outputs": [
    {
     "data": {
      "text/plain": [
       "tensor([[0.2431, 0.6941, 1.0000,  ..., 0.6980, 0.8275, 0.8980],\n",
       "        [0.1804, 0.5373, 0.9922,  ..., 0.6902, 0.8157, 0.9294],\n",
       "        [0.1882, 0.4078, 0.9922,  ..., 0.6902, 0.8118, 0.9255],\n",
       "        ...,\n",
       "        [0.5176, 0.3725, 0.9922,  ..., 0.6941, 0.7647, 0.8588],\n",
       "        [0.4902, 0.3529, 0.9922,  ..., 0.5765, 0.7608, 0.8745],\n",
       "        [0.4863, 0.3176, 0.9922,  ..., 0.5804, 0.7608, 0.8745]])"
      ]
     },
     "execution_count": 55,
     "metadata": {},
     "output_type": "execute_result"
    }
   ],
   "source": [
    "imgs[1][0]"
   ]
  },
  {
   "cell_type": "code",
   "execution_count": 64,
   "id": "546cf764-992a-42cb-ab51-e0d8773d492f",
   "metadata": {},
   "outputs": [
    {
     "data": {
      "text/plain": [
       "tensor([0.2314, 0.6039, 1.0000,  ..., 0.0471, 0.7647, 0.6392])"
      ]
     },
     "execution_count": 64,
     "metadata": {},
     "output_type": "execute_result"
    }
   ],
   "source": [
    "imgs.view(3, -1)[0]"
   ]
  },
  {
   "cell_type": "code",
   "execution_count": 69,
   "id": "e1720956-7477-4b28-9540-033922ea9547",
   "metadata": {},
   "outputs": [
    {
     "data": {
      "text/plain": [
       "(tensor([0.4914, 0.4822, 0.4465]), tensor([0.2470, 0.2435, 0.2616]))"
      ]
     },
     "execution_count": 69,
     "metadata": {},
     "output_type": "execute_result"
    }
   ],
   "source": [
    "# Mean and std\n",
    "imgs.view(3, -1).mean(dim=1),imgs.view(3, -1).std(dim=1)"
   ]
  },
  {
   "cell_type": "code",
   "execution_count": null,
   "id": "4cc1b1e9-0bed-4f5a-b91f-703fd2df1511",
   "metadata": {},
   "outputs": [],
   "source": []
  }
 ],
 "metadata": {
  "kernelspec": {
   "display_name": "Python 3 (ipykernel)",
   "language": "python",
   "name": "python3"
  },
  "language_info": {
   "codemirror_mode": {
    "name": "ipython",
    "version": 3
   },
   "file_extension": ".py",
   "mimetype": "text/x-python",
   "name": "python",
   "nbconvert_exporter": "python",
   "pygments_lexer": "ipython3",
   "version": "3.11.5"
  }
 },
 "nbformat": 4,
 "nbformat_minor": 5
}
