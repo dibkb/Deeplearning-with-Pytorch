{
 "cells": [
  {
   "cell_type": "code",
   "execution_count": 1,
   "id": "c5c7f520-3e29-491d-b103-54497958635a",
   "metadata": {},
   "outputs": [],
   "source": [
    "from torchvision import datasets"
   ]
  },
  {
   "cell_type": "markdown",
   "id": "8d51bc10-2686-4f02-9759-a2121225dc0b",
   "metadata": {},
   "source": [
    "### Downloading the Cifar 10 Dataset"
   ]
  },
  {
   "cell_type": "code",
   "execution_count": 5,
   "id": "8d63692e-714f-4f99-a43e-0c9561e37317",
   "metadata": {},
   "outputs": [
    {
     "data": {
      "text/plain": [
       "'/Users/dk/Side Projects/Deeplearning with Pytorch'"
      ]
     },
     "execution_count": 5,
     "metadata": {},
     "output_type": "execute_result"
    }
   ],
   "source": [
    "import os \n",
    "cwd = os.getcwd()"
   ]
  },
  {
   "cell_type": "code",
   "execution_count": null,
   "id": "91974c7b-3776-465f-b23b-bd5fe37e5d2f",
   "metadata": {},
   "outputs": [
    {
     "name": "stdout",
     "output_type": "stream",
     "text": [
      "Downloading https://www.cs.toronto.edu/~kriz/cifar-10-python.tar.gz to /Users/dk/Side Projects/Deeplearning with Pytorch/train/cifar-10-python.tar.gz\n"
     ]
    },
    {
     "name": "stderr",
     "output_type": "stream",
     "text": [
      "100%|████████████████████████| 170498071/170498071 [01:41<00:00, 1686284.10it/s]\n"
     ]
    },
    {
     "name": "stdout",
     "output_type": "stream",
     "text": [
      "Extracting /Users/dk/Side Projects/Deeplearning with Pytorch/train/cifar-10-python.tar.gz to /Users/dk/Side Projects/Deeplearning with Pytorch/train\n",
      "Downloading https://www.cs.toronto.edu/~kriz/cifar-10-python.tar.gz to /Users/dk/Side Projects/Deeplearning with Pytorch/test/cifar-10-python.tar.gz\n"
     ]
    },
    {
     "name": "stderr",
     "output_type": "stream",
     "text": [
      " 98%|███████████████████████▍| 166494208/170498071 [01:49<00:01, 3324823.67it/s]"
     ]
    }
   ],
   "source": [
    "cifar10 = datasets.CIFAR10(os.path.join(cwd, \"train\"),train = True, download = True)\n",
    "cifar10_val = datasets.CIFAR10(os.path.join(cwd, \"test\"),train = False, download = True)"
   ]
  },
  {
   "cell_type": "code",
   "execution_count": null,
   "id": "a684f03e-1c29-452a-b36c-1c2debcaa47c",
   "metadata": {},
   "outputs": [],
   "source": []
  }
 ],
 "metadata": {
  "kernelspec": {
   "display_name": "Python 3 (ipykernel)",
   "language": "python",
   "name": "python3"
  },
  "language_info": {
   "codemirror_mode": {
    "name": "ipython",
    "version": 3
   },
   "file_extension": ".py",
   "mimetype": "text/x-python",
   "name": "python",
   "nbconvert_exporter": "python",
   "pygments_lexer": "ipython3",
   "version": "3.11.5"
  }
 },
 "nbformat": 4,
 "nbformat_minor": 5
}
